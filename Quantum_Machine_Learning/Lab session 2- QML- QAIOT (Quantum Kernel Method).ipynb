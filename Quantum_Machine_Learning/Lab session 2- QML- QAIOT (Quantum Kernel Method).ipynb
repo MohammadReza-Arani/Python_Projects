{
 "cells": [
  {
   "cell_type": "markdown",
   "id": "c169e50e",
   "metadata": {},
   "source": [
    "# Lab session 1- QML- QAIOT (Quantum Kernel Method)\n",
    "\n",
    "Let's dive to our very first quantum-inspired SVM"
   ]
  },
  {
   "cell_type": "markdown",
   "id": "8f792df6",
   "metadata": {},
   "source": [
    "This cell appears to be setting up the environment and importing necessary modules for a machine learning task involving classical and potentially quantum component"
   ]
  },
  {
   "cell_type": "code",
   "execution_count": 1,
   "id": "4a61c2f1",
   "metadata": {},
   "outputs": [],
   "source": [
    "import numpy as np\n",
    "\n",
    "from sklearn.svm import SVC\n",
    "from sklearn.datasets import load_iris\n",
    "from sklearn.preprocessing import StandardScaler\n",
    "from sklearn.model_selection import train_test_split\n",
    "from sklearn.metrics import accuracy_score\n",
    "\n",
    "import pennylane as qml\n",
    "from pennylane.templates import AngleEmbedding, StronglyEntanglingLayers\n",
    "\n",
    "\n",
    "np.random.seed(42)"
   ]
  },
  {
   "cell_type": "markdown",
   "id": "44472136",
   "metadata": {},
   "source": [
    "Overall, Following code cell prepares the data by loading the Iris dataset, selecting a subset of samples, standardizing the features, and splitting the data into training and testing sets for further processing."
   ]
  },
  {
   "cell_type": "code",
   "execution_count": 2,
   "id": "e0ea6ffd",
   "metadata": {},
   "outputs": [],
   "source": [
    "X, y = load_iris(return_X_y=True)\n",
    "\n",
    "# pick inputs and labels from the first two classes only,\n",
    "# corresponding to the first 100 samples\n",
    "X = X[:100]\n",
    "y = y[:100]\n",
    "\n",
    "# scaling the inputs is important since the embedding we use is periodic\n",
    "scaler = StandardScaler().fit(X)\n",
    "X_scaled = scaler.transform(X)\n",
    "\n",
    "# scaling the labels to -1, 1 is important for the SVM and the\n",
    "# definition of a hinge loss\n",
    "y_scaled = 2 * (y - 0.5)\n",
    "\n",
    "X_train, X_test, y_train, y_test = train_test_split(X_scaled, y_scaled)"
   ]
  },
  {
   "cell_type": "markdown",
   "id": "ae3052fc",
   "metadata": {},
   "source": [
    "Here, len(X_train[0]) returns the length (number of elements) of the first sample in the training data X_train. Since each sample represents a set of features, the length of the first sample gives the number of features. In the context of quantum machine learning, this number is often used to determine the number of qubits required to encode the features into a quantum state."
   ]
  },
  {
   "cell_type": "code",
   "execution_count": 3,
   "id": "002b52ec",
   "metadata": {},
   "outputs": [
    {
     "data": {
      "text/plain": [
       "4"
      ]
     },
     "execution_count": 3,
     "metadata": {},
     "output_type": "execute_result"
    }
   ],
   "source": [
    "n_qubits = len(X_train[0])\n",
    "n_qubits"
   ]
  },
  {
   "cell_type": "code",
   "execution_count": 4,
   "id": "b5cdaafd",
   "metadata": {},
   "outputs": [],
   "source": [
    "dev_kernel = qml.device(\"default.qubit\", wires=n_qubits)\n",
    "\n",
    "projector = np.zeros((2**n_qubits, 2**n_qubits))\n",
    "projector[0, 0] = 1\n",
    "\n",
    "@qml.qnode(dev_kernel, interface=\"autograd\")\n",
    "def kernel(x1, x2):\n",
    "    \"\"\"The quantum kernel.\"\"\"\n",
    "    AngleEmbedding(x1, wires=range(n_qubits))\n",
    "    qml.adjoint(AngleEmbedding)(x2, wires=range(n_qubits))\n",
    "    return qml.expval(qml.Hermitian(projector, wires=range(n_qubits)))"
   ]
  },
  {
   "cell_type": "code",
   "execution_count": 5,
   "id": "bfbc908a",
   "metadata": {},
   "outputs": [
    {
     "data": {
      "text/plain": [
       "tensor(1., requires_grad=True)"
      ]
     },
     "execution_count": 5,
     "metadata": {},
     "output_type": "execute_result"
    }
   ],
   "source": [
    "kernel(X_train[0], X_train[0])"
   ]
  },
  {
   "cell_type": "markdown",
   "id": "e53790e6",
   "metadata": {},
   "source": [
    "Upcoming line calculates the kernel matrix. It uses a nested list comprehension to iterate over every pair of elements a from set A and b from set B. For each pair, it evaluates the kernel function defined earlier with a and b as arguments to get the kernel value, and these values are used to populate the matrix.\n",
    "\n",
    "The resulting matrix is returned as a NumPy array, where each entry is the value of the quantum kernel function evaluated on the corresponding pairs of elements from sets A and B."
   ]
  },
  {
   "cell_type": "code",
   "execution_count": 6,
   "id": "5a67be78",
   "metadata": {},
   "outputs": [],
   "source": [
    "def kernel_matrix(A, B):\n",
    "    \"\"\"Compute the matrix whose entries are the kernel\n",
    "       evaluated on pairwise data from sets A and B.\"\"\"\n",
    "    return np.array([[kernel(a, b) for b in B] for a in A])"
   ]
  },
  {
   "cell_type": "code",
   "execution_count": 7,
   "id": "7b2866eb",
   "metadata": {},
   "outputs": [],
   "source": [
    "svm = SVC(kernel=kernel_matrix).fit(X_train, y_train)"
   ]
  },
  {
   "cell_type": "code",
   "execution_count": 8,
   "id": "9e7c7b7c",
   "metadata": {},
   "outputs": [
    {
     "data": {
      "text/plain": [
       "1.0"
      ]
     },
     "execution_count": 8,
     "metadata": {},
     "output_type": "execute_result"
    }
   ],
   "source": [
    "predictions = svm.predict(X_test)\n",
    "accuracy_score(predictions, y_test)"
   ]
  }
 ],
 "metadata": {
  "kernelspec": {
   "display_name": "Python 3",
   "language": "python",
   "name": "python3"
  },
  "language_info": {
   "codemirror_mode": {
    "name": "ipython",
    "version": 3
   },
   "file_extension": ".py",
   "mimetype": "text/x-python",
   "name": "python",
   "nbconvert_exporter": "python",
   "pygments_lexer": "ipython3",
   "version": "3.8.8"
  }
 },
 "nbformat": 4,
 "nbformat_minor": 5
}
