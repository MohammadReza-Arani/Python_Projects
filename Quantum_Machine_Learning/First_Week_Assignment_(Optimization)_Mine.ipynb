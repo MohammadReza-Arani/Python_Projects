{
  "cells": [
    {
      "cell_type": "markdown",
      "id": "e1e69d55",
      "metadata": {
        "id": "e1e69d55"
      },
      "source": [
        "# Optimization\n",
        "\n",
        "\n",
        "\n",
        "\n",
        " Goal : In this assignment, you should fill the missing parts in order to optimize the circuit to reach 0.4 as the expectation value (PauliZ) of first qubit.\n"
      ]
    },
    {
      "cell_type": "code",
      "source": [
        "!pip install pennylane"
      ],
      "metadata": {
        "colab": {
          "base_uri": "https://localhost:8080/"
        },
        "id": "VJJj_WCGbDKy",
        "outputId": "559e9aa8-b0df-42db-8db7-d90b37834029"
      },
      "id": "VJJj_WCGbDKy",
      "execution_count": null,
      "outputs": [
        {
          "output_type": "stream",
          "name": "stdout",
          "text": [
            "Collecting pennylane\n",
            "  Downloading PennyLane-0.31.1-py3-none-any.whl (1.5 MB)\n",
            "\u001b[2K     \u001b[90m━━━━━━━━━━━━━━━━━━━━━━━━━━━━━━━━━━━━━━━━\u001b[0m \u001b[32m1.5/1.5 MB\u001b[0m \u001b[31m8.5 MB/s\u001b[0m eta \u001b[36m0:00:00\u001b[0m\n",
            "\u001b[?25hRequirement already satisfied: numpy<1.24 in /usr/local/lib/python3.10/dist-packages (from pennylane) (1.23.5)\n",
            "Requirement already satisfied: scipy in /usr/local/lib/python3.10/dist-packages (from pennylane) (1.10.1)\n",
            "Requirement already satisfied: networkx in /usr/local/lib/python3.10/dist-packages (from pennylane) (3.1)\n",
            "Collecting rustworkx (from pennylane)\n",
            "  Downloading rustworkx-0.13.1-cp310-cp310-manylinux_2_17_x86_64.manylinux2014_x86_64.whl (2.0 MB)\n",
            "\u001b[2K     \u001b[90m━━━━━━━━━━━━━━━━━━━━━━━━━━━━━━━━━━━━━━━━\u001b[0m \u001b[32m2.0/2.0 MB\u001b[0m \u001b[31m10.8 MB/s\u001b[0m eta \u001b[36m0:00:00\u001b[0m\n",
            "\u001b[?25hCollecting autograd<=1.5 (from pennylane)\n",
            "  Downloading autograd-1.5-py3-none-any.whl (48 kB)\n",
            "\u001b[2K     \u001b[90m━━━━━━━━━━━━━━━━━━━━━━━━━━━━━━━━━━━━━━━━\u001b[0m \u001b[32m48.9/48.9 kB\u001b[0m \u001b[31m4.1 MB/s\u001b[0m eta \u001b[36m0:00:00\u001b[0m\n",
            "\u001b[?25hRequirement already satisfied: toml in /usr/local/lib/python3.10/dist-packages (from pennylane) (0.10.2)\n",
            "Requirement already satisfied: appdirs in /usr/local/lib/python3.10/dist-packages (from pennylane) (1.4.4)\n",
            "Collecting semantic-version>=2.7 (from pennylane)\n",
            "  Downloading semantic_version-2.10.0-py2.py3-none-any.whl (15 kB)\n",
            "Collecting autoray<=0.6.3,>=0.3.1 (from pennylane)\n",
            "  Downloading autoray-0.6.3-py3-none-any.whl (48 kB)\n",
            "\u001b[2K     \u001b[90m━━━━━━━━━━━━━━━━━━━━━━━━━━━━━━━━━━━━━━━━\u001b[0m \u001b[32m48.3/48.3 kB\u001b[0m \u001b[31m4.8 MB/s\u001b[0m eta \u001b[36m0:00:00\u001b[0m\n",
            "\u001b[?25hRequirement already satisfied: cachetools in /usr/local/lib/python3.10/dist-packages (from pennylane) (5.3.1)\n",
            "Collecting pennylane-lightning>=0.31 (from pennylane)\n",
            "  Downloading PennyLane_Lightning-0.31.0-cp310-cp310-manylinux_2_17_x86_64.manylinux2014_x86_64.whl (16.6 MB)\n",
            "\u001b[2K     \u001b[90m━━━━━━━━━━━━━━━━━━━━━━━━━━━━━━━━━━━━━━━━\u001b[0m \u001b[32m16.6/16.6 MB\u001b[0m \u001b[31m34.2 MB/s\u001b[0m eta \u001b[36m0:00:00\u001b[0m\n",
            "\u001b[?25hRequirement already satisfied: requests in /usr/local/lib/python3.10/dist-packages (from pennylane) (2.31.0)\n",
            "Requirement already satisfied: typing-extensions in /usr/local/lib/python3.10/dist-packages (from pennylane) (4.7.1)\n",
            "Requirement already satisfied: future>=0.15.2 in /usr/local/lib/python3.10/dist-packages (from autograd<=1.5->pennylane) (0.18.3)\n",
            "Requirement already satisfied: charset-normalizer<4,>=2 in /usr/local/lib/python3.10/dist-packages (from requests->pennylane) (3.2.0)\n",
            "Requirement already satisfied: idna<4,>=2.5 in /usr/local/lib/python3.10/dist-packages (from requests->pennylane) (3.4)\n",
            "Requirement already satisfied: urllib3<3,>=1.21.1 in /usr/local/lib/python3.10/dist-packages (from requests->pennylane) (2.0.4)\n",
            "Requirement already satisfied: certifi>=2017.4.17 in /usr/local/lib/python3.10/dist-packages (from requests->pennylane) (2023.7.22)\n",
            "Installing collected packages: semantic-version, rustworkx, autoray, autograd, pennylane-lightning, pennylane\n",
            "  Attempting uninstall: autograd\n",
            "    Found existing installation: autograd 1.6.2\n",
            "    Uninstalling autograd-1.6.2:\n",
            "      Successfully uninstalled autograd-1.6.2\n",
            "Successfully installed autograd-1.5 autoray-0.6.3 pennylane-0.31.1 pennylane-lightning-0.31.0 rustworkx-0.13.1 semantic-version-2.10.0\n"
          ]
        }
      ]
    },
    {
      "cell_type": "code",
      "execution_count": null,
      "id": "9a7ccdcd",
      "metadata": {
        "id": "9a7ccdcd"
      },
      "outputs": [],
      "source": [
        "import pennylane as qml\n",
        "from pennylane import numpy as np"
      ]
    },
    {
      "cell_type": "code",
      "execution_count": null,
      "id": "127c3823",
      "metadata": {
        "id": "127c3823"
      },
      "outputs": [],
      "source": [
        "dev = qml.device(\"default.qubit\", wires=1)\n",
        "\n",
        "@qml.qnode(dev)\n",
        "def circuit(params):\n",
        "    qml.RY(params[0], wires=0)\n",
        "    qml.RZ(params[1],wires=0)\n",
        "    return  qml.expval(qml.PauliZ(0))# enter your code here (First graded assignment)"
      ]
    },
    {
      "cell_type": "markdown",
      "id": "40a649b9",
      "metadata": {
        "id": "40a649b9"
      },
      "source": [
        "you should define the cost function in order to optimize circuit(params) in code cell below"
      ]
    },
    {
      "cell_type": "code",
      "execution_count": null,
      "id": "fd500866",
      "metadata": {
        "id": "fd500866"
      },
      "outputs": [],
      "source": [
        "def cost(params):\n",
        "    return  np.abs(circuit(params)-0.4)**2# enter your code here (Second graded code)"
      ]
    },
    {
      "cell_type": "markdown",
      "id": "23617c4c",
      "metadata": {
        "id": "23617c4c"
      },
      "source": [
        "In code cell below,\n",
        "\n",
        "\n",
        "\n",
        "\n",
        "\n",
        "\n",
        "\n",
        "First you should set up your optimizer and learning rate\n",
        "\n",
        "\n",
        "\n",
        "\n",
        "\n",
        "\n",
        "Second you have to initialize the learning parameter"
      ]
    },
    {
      "cell_type": "code",
      "execution_count": null,
      "id": "a89ec7d4",
      "metadata": {
        "id": "a89ec7d4"
      },
      "outputs": [],
      "source": [
        "# use gradient descent with learning rate 0.4\n",
        "\n",
        "opt=qml.GradientDescentOptimizer(stepsize=0.4)#enter your code here (Third graded code)\n",
        "\n",
        "\n",
        "steps = 100\n",
        "\n",
        "# use np.random.rand to initialize params\n",
        "\n",
        "params=np.random.rand(2)# enter your code here (Fourth graded code)\n",
        "\n",
        "for i in range(steps):\n",
        "    params = opt.step(cost, params)"
      ]
    },
    {
      "cell_type": "markdown",
      "id": "935a58e6",
      "metadata": {
        "id": "935a58e6"
      },
      "source": [
        "if your codes are correct, you should receive (tensor(0.4, requires_grad=True))"
      ]
    },
    {
      "cell_type": "code",
      "execution_count": null,
      "id": "165dc8cd",
      "metadata": {
        "colab": {
          "base_uri": "https://localhost:8080/"
        },
        "id": "165dc8cd",
        "outputId": "0cc39909-920c-4011-ae11-2fd63bcfef6f"
      },
      "outputs": [
        {
          "output_type": "execute_result",
          "data": {
            "text/plain": [
              "tensor(0.4, requires_grad=True)"
            ]
          },
          "metadata": {},
          "execution_count": 12
        }
      ],
      "source": [
        "circuit(params)"
      ]
    }
  ],
  "metadata": {
    "kernelspec": {
      "display_name": "Python 3",
      "language": "python",
      "name": "python3"
    },
    "language_info": {
      "codemirror_mode": {
        "name": "ipython",
        "version": 3
      },
      "file_extension": ".py",
      "mimetype": "text/x-python",
      "name": "python",
      "nbconvert_exporter": "python",
      "pygments_lexer": "ipython3",
      "version": "3.8.8"
    },
    "colab": {
      "provenance": []
    }
  },
  "nbformat": 4,
  "nbformat_minor": 5
}