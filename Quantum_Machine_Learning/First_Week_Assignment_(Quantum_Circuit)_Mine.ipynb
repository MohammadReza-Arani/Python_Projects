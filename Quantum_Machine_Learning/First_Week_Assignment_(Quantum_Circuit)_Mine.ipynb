{
  "cells": [
    {
      "cell_type": "markdown",
      "metadata": {
        "id": "bddef487"
      },
      "source": [
        "# Quantum Circuits\n",
        "For your first graded code you should enter a code to create\n",
        "$$\\frac{1}{{\\sqrt{2}}} (|000\\rangle - |101\\rangle)$$\n",
        "\n",
        "For Your second graded code, you should modify return value of circuit() function in order to evaluate expectation value of the first two qubits using PauliZ operator\n"
      ],
      "id": "bddef487"
    },
    {
      "cell_type": "code",
      "execution_count": null,
      "metadata": {
        "colab": {
          "base_uri": "https://localhost:8080/"
        },
        "id": "346361b0",
        "outputId": "f9c12547-ec81-4a70-c6a6-ea9d3f969713"
      },
      "outputs": [
        {
          "output_type": "stream",
          "name": "stdout",
          "text": [
            "Collecting pennylane\n",
            "  Downloading PennyLane-0.31.1-py3-none-any.whl (1.5 MB)\n",
            "\u001b[2K     \u001b[90m━━━━━━━━━━━━━━━━━━━━━━━━━━━━━━━━━━━━━━━━\u001b[0m \u001b[32m1.5/1.5 MB\u001b[0m \u001b[31m10.5 MB/s\u001b[0m eta \u001b[36m0:00:00\u001b[0m\n",
            "\u001b[?25hCollecting pennylane-qiskit\n",
            "  Downloading PennyLane_qiskit-0.31.0-py3-none-any.whl (28 kB)\n",
            "Requirement already satisfied: numpy<1.24 in /usr/local/lib/python3.10/dist-packages (from pennylane) (1.23.5)\n",
            "Requirement already satisfied: scipy in /usr/local/lib/python3.10/dist-packages (from pennylane) (1.10.1)\n",
            "Requirement already satisfied: networkx in /usr/local/lib/python3.10/dist-packages (from pennylane) (3.1)\n",
            "Collecting rustworkx (from pennylane)\n",
            "  Downloading rustworkx-0.13.1-cp310-cp310-manylinux_2_17_x86_64.manylinux2014_x86_64.whl (2.0 MB)\n",
            "\u001b[2K     \u001b[90m━━━━━━━━━━━━━━━━━━━━━━━━━━━━━━━━━━━━━━━━\u001b[0m \u001b[32m2.0/2.0 MB\u001b[0m \u001b[31m18.8 MB/s\u001b[0m eta \u001b[36m0:00:00\u001b[0m\n",
            "\u001b[?25hCollecting autograd<=1.5 (from pennylane)\n",
            "  Downloading autograd-1.5-py3-none-any.whl (48 kB)\n",
            "\u001b[2K     \u001b[90m━━━━━━━━━━━━━━━━━━━━━━━━━━━━━━━━━━━━━━━━\u001b[0m \u001b[32m48.9/48.9 kB\u001b[0m \u001b[31m4.4 MB/s\u001b[0m eta \u001b[36m0:00:00\u001b[0m\n",
            "\u001b[?25hRequirement already satisfied: toml in /usr/local/lib/python3.10/dist-packages (from pennylane) (0.10.2)\n",
            "Requirement already satisfied: appdirs in /usr/local/lib/python3.10/dist-packages (from pennylane) (1.4.4)\n",
            "Collecting semantic-version>=2.7 (from pennylane)\n",
            "  Downloading semantic_version-2.10.0-py2.py3-none-any.whl (15 kB)\n",
            "Collecting autoray<=0.6.3,>=0.3.1 (from pennylane)\n",
            "  Downloading autoray-0.6.3-py3-none-any.whl (48 kB)\n",
            "\u001b[2K     \u001b[90m━━━━━━━━━━━━━━━━━━━━━━━━━━━━━━━━━━━━━━━━\u001b[0m \u001b[32m48.3/48.3 kB\u001b[0m \u001b[31m4.7 MB/s\u001b[0m eta \u001b[36m0:00:00\u001b[0m\n",
            "\u001b[?25hRequirement already satisfied: cachetools in /usr/local/lib/python3.10/dist-packages (from pennylane) (5.3.1)\n",
            "Collecting pennylane-lightning>=0.31 (from pennylane)\n",
            "  Downloading PennyLane_Lightning-0.31.0-cp310-cp310-manylinux_2_17_x86_64.manylinux2014_x86_64.whl (16.6 MB)\n",
            "\u001b[2K     \u001b[90m━━━━━━━━━━━━━━━━━━━━━━━━━━━━━━━━━━━━━━━━\u001b[0m \u001b[32m16.6/16.6 MB\u001b[0m \u001b[31m45.1 MB/s\u001b[0m eta \u001b[36m0:00:00\u001b[0m\n",
            "\u001b[?25hRequirement already satisfied: requests in /usr/local/lib/python3.10/dist-packages (from pennylane) (2.31.0)\n",
            "Requirement already satisfied: typing-extensions in /usr/local/lib/python3.10/dist-packages (from pennylane) (4.7.1)\n",
            "Collecting qiskit>=0.32 (from pennylane-qiskit)\n",
            "  Downloading qiskit-0.44.1-py3-none-any.whl (8.2 kB)\n",
            "Collecting qiskit-ibm-runtime (from pennylane-qiskit)\n",
            "  Downloading qiskit_ibm_runtime-0.11.3-py3-none-any.whl (128 kB)\n",
            "\u001b[2K     \u001b[90m━━━━━━━━━━━━━━━━━━━━━━━━━━━━━━━━━━━━━━\u001b[0m \u001b[32m128.3/128.3 kB\u001b[0m \u001b[31m13.4 MB/s\u001b[0m eta \u001b[36m0:00:00\u001b[0m\n",
            "\u001b[?25hCollecting qiskit-ibm-provider (from pennylane-qiskit)\n",
            "  Downloading qiskit_ibm_provider-0.6.3-py3-none-any.whl (239 kB)\n",
            "\u001b[2K     \u001b[90m━━━━━━━━━━━━━━━━━━━━━━━━━━━━━━━━━━━━━━\u001b[0m \u001b[32m239.2/239.2 kB\u001b[0m \u001b[31m20.1 MB/s\u001b[0m eta \u001b[36m0:00:00\u001b[0m\n",
            "\u001b[?25hCollecting mthree>=0.17 (from pennylane-qiskit)\n",
            "  Downloading mthree-2.5.1-cp310-cp310-manylinux_2_17_x86_64.manylinux2014_x86_64.whl (3.4 MB)\n",
            "\u001b[2K     \u001b[90m━━━━━━━━━━━━━━━━━━━━━━━━━━━━━━━━━━━━━━━━\u001b[0m \u001b[32m3.4/3.4 MB\u001b[0m \u001b[31m58.7 MB/s\u001b[0m eta \u001b[36m0:00:00\u001b[0m\n",
            "\u001b[?25hRequirement already satisfied: future>=0.15.2 in /usr/local/lib/python3.10/dist-packages (from autograd<=1.5->pennylane) (0.18.3)\n",
            "Requirement already satisfied: cython>=0.29 in /usr/local/lib/python3.10/dist-packages (from mthree>=0.17->pennylane-qiskit) (0.29.36)\n",
            "Collecting qiskit-terra>=0.21 (from mthree>=0.17->pennylane-qiskit)\n",
            "  Downloading qiskit_terra-0.25.1-cp38-abi3-manylinux_2_17_x86_64.manylinux2014_x86_64.whl (6.1 MB)\n",
            "\u001b[2K     \u001b[90m━━━━━━━━━━━━━━━━━━━━━━━━━━━━━━━━━━━━━━━━\u001b[0m \u001b[32m6.1/6.1 MB\u001b[0m \u001b[31m66.4 MB/s\u001b[0m eta \u001b[36m0:00:00\u001b[0m\n",
            "\u001b[?25hCollecting qiskit-ibmq-provider>=0.19.2 (from mthree>=0.17->pennylane-qiskit)\n",
            "  Downloading qiskit_ibmq_provider-0.20.2-py3-none-any.whl (241 kB)\n",
            "\u001b[2K     \u001b[90m━━━━━━━━━━━━━━━━━━━━━━━━━━━━━━━━━━━━━━\u001b[0m \u001b[32m241.5/241.5 kB\u001b[0m \u001b[31m21.1 MB/s\u001b[0m eta \u001b[36m0:00:00\u001b[0m\n",
            "\u001b[?25hRequirement already satisfied: psutil in /usr/local/lib/python3.10/dist-packages (from mthree>=0.17->pennylane-qiskit) (5.9.5)\n",
            "Collecting orjson>=3.0.0 (from mthree>=0.17->pennylane-qiskit)\n",
            "  Downloading orjson-3.9.5-cp310-cp310-manylinux_2_17_x86_64.manylinux2014_x86_64.whl (139 kB)\n",
            "\u001b[2K     \u001b[90m━━━━━━━━━━━━━━━━━━━━━━━━━━━━━━━━━━━━━━\u001b[0m \u001b[32m139.9/139.9 kB\u001b[0m \u001b[31m12.0 MB/s\u001b[0m eta \u001b[36m0:00:00\u001b[0m\n",
            "\u001b[?25hCollecting ply>=3.10 (from qiskit-terra>=0.21->mthree>=0.17->pennylane-qiskit)\n",
            "  Downloading ply-3.11-py2.py3-none-any.whl (49 kB)\n",
            "\u001b[2K     \u001b[90m━━━━━━━━━━━━━━━━━━━━━━━━━━━━━━━━━━━━━━━━\u001b[0m \u001b[32m49.6/49.6 kB\u001b[0m \u001b[31m5.3 MB/s\u001b[0m eta \u001b[36m0:00:00\u001b[0m\n",
            "\u001b[?25hRequirement already satisfied: sympy>=1.3 in /usr/local/lib/python3.10/dist-packages (from qiskit-terra>=0.21->mthree>=0.17->pennylane-qiskit) (1.12)\n",
            "Collecting dill>=0.3 (from qiskit-terra>=0.21->mthree>=0.17->pennylane-qiskit)\n",
            "  Downloading dill-0.3.7-py3-none-any.whl (115 kB)\n",
            "\u001b[2K     \u001b[90m━━━━━━━━━━━━━━━━━━━━━━━━━━━━━━━━━━━━━━\u001b[0m \u001b[32m115.3/115.3 kB\u001b[0m \u001b[31m11.7 MB/s\u001b[0m eta \u001b[36m0:00:00\u001b[0m\n",
            "\u001b[?25hRequirement already satisfied: python-dateutil>=2.8.0 in /usr/local/lib/python3.10/dist-packages (from qiskit-terra>=0.21->mthree>=0.17->pennylane-qiskit) (2.8.2)\n",
            "Collecting stevedore>=3.0.0 (from qiskit-terra>=0.21->mthree>=0.17->pennylane-qiskit)\n",
            "  Downloading stevedore-5.1.0-py3-none-any.whl (49 kB)\n",
            "\u001b[2K     \u001b[90m━━━━━━━━━━━━━━━━━━━━━━━━━━━━━━━━━━━━━━━━\u001b[0m \u001b[32m49.6/49.6 kB\u001b[0m \u001b[31m4.8 MB/s\u001b[0m eta \u001b[36m0:00:00\u001b[0m\n",
            "\u001b[?25hCollecting symengine<0.10,>=0.9 (from qiskit-terra>=0.21->mthree>=0.17->pennylane-qiskit)\n",
            "  Downloading symengine-0.9.2-cp310-cp310-manylinux2010_x86_64.whl (37.5 MB)\n",
            "\u001b[2K     \u001b[90m━━━━━━━━━━━━━━━━━━━━━━━━━━━━━━━━━━━━━━━━\u001b[0m \u001b[32m37.5/37.5 MB\u001b[0m \u001b[31m16.1 MB/s\u001b[0m eta \u001b[36m0:00:00\u001b[0m\n",
            "\u001b[?25hCollecting requests-ntlm>=1.1.0 (from qiskit-ibm-provider->pennylane-qiskit)\n",
            "  Downloading requests_ntlm-1.2.0-py3-none-any.whl (6.0 kB)\n",
            "Requirement already satisfied: urllib3>=1.21.1 in /usr/local/lib/python3.10/dist-packages (from qiskit-ibm-provider->pennylane-qiskit) (2.0.4)\n",
            "Requirement already satisfied: websocket-client>=1.5.1 in /usr/local/lib/python3.10/dist-packages (from qiskit-ibm-provider->pennylane-qiskit) (1.6.1)\n",
            "Collecting websockets>=10.0 (from qiskit-ibm-provider->pennylane-qiskit)\n",
            "  Downloading websockets-11.0.3-cp310-cp310-manylinux_2_5_x86_64.manylinux1_x86_64.manylinux_2_17_x86_64.manylinux2014_x86_64.whl (129 kB)\n",
            "\u001b[2K     \u001b[90m━━━━━━━━━━━━━━━━━━━━━━━━━━━━━━━━━━━━━━\u001b[0m \u001b[32m129.9/129.9 kB\u001b[0m \u001b[31m13.5 MB/s\u001b[0m eta \u001b[36m0:00:00\u001b[0m\n",
            "\u001b[?25hRequirement already satisfied: charset-normalizer<4,>=2 in /usr/local/lib/python3.10/dist-packages (from requests->pennylane) (3.2.0)\n",
            "Requirement already satisfied: idna<4,>=2.5 in /usr/local/lib/python3.10/dist-packages (from requests->pennylane) (3.4)\n",
            "Requirement already satisfied: certifi>=2017.4.17 in /usr/local/lib/python3.10/dist-packages (from requests->pennylane) (2023.7.22)\n",
            "Collecting ibm-platform-services>=0.22.6 (from qiskit-ibm-runtime->pennylane-qiskit)\n",
            "  Downloading ibm-platform-services-0.39.0.tar.gz (267 kB)\n",
            "\u001b[2K     \u001b[90m━━━━━━━━━━━━━━━━━━━━━━━━━━━━━━━━━━━━━━\u001b[0m \u001b[32m267.8/267.8 kB\u001b[0m \u001b[31m18.6 MB/s\u001b[0m eta \u001b[36m0:00:00\u001b[0m\n",
            "\u001b[?25h  Installing build dependencies ... \u001b[?25l\u001b[?25hdone\n",
            "  Getting requirements to build wheel ... \u001b[?25l\u001b[?25hdone\n",
            "  Preparing metadata (pyproject.toml) ... \u001b[?25l\u001b[?25hdone\n",
            "Collecting urllib3>=1.21.1 (from qiskit-ibm-provider->pennylane-qiskit)\n",
            "  Downloading urllib3-1.26.16-py2.py3-none-any.whl (143 kB)\n",
            "\u001b[2K     \u001b[90m━━━━━━━━━━━━━━━━━━━━━━━━━━━━━━━━━━━━━━\u001b[0m \u001b[32m143.1/143.1 kB\u001b[0m \u001b[31m14.5 MB/s\u001b[0m eta \u001b[36m0:00:00\u001b[0m\n",
            "\u001b[?25hCollecting ibm-cloud-sdk-core<4.0.0,>=3.16.7 (from ibm-platform-services>=0.22.6->qiskit-ibm-runtime->pennylane-qiskit)\n",
            "  Downloading ibm-cloud-sdk-core-3.16.7.tar.gz (52 kB)\n",
            "\u001b[2K     \u001b[90m━━━━━━━━━━━━━━━━━━━━━━━━━━━━━━━━━━━━━━━━\u001b[0m \u001b[32m52.3/52.3 kB\u001b[0m \u001b[31m4.7 MB/s\u001b[0m eta \u001b[36m0:00:00\u001b[0m\n",
            "\u001b[?25h  Installing build dependencies ... \u001b[?25l\u001b[?25hdone\n",
            "  Getting requirements to build wheel ... \u001b[?25l\u001b[?25hdone\n",
            "  Preparing metadata (pyproject.toml) ... \u001b[?25l\u001b[?25hdone\n",
            "Requirement already satisfied: six>=1.5 in /usr/local/lib/python3.10/dist-packages (from python-dateutil>=2.8.0->qiskit-terra>=0.21->mthree>=0.17->pennylane-qiskit) (1.16.0)\n",
            "Collecting requests-ntlm>=1.1.0 (from qiskit-ibm-provider->pennylane-qiskit)\n",
            "  Downloading requests_ntlm-1.1.0-py2.py3-none-any.whl (5.7 kB)\n",
            "Collecting ntlm-auth>=1.0.2 (from requests-ntlm>=1.1.0->qiskit-ibm-provider->pennylane-qiskit)\n",
            "  Downloading ntlm_auth-1.5.0-py2.py3-none-any.whl (29 kB)\n",
            "Requirement already satisfied: cryptography>=1.3 in /usr/local/lib/python3.10/dist-packages (from requests-ntlm>=1.1.0->qiskit-ibm-provider->pennylane-qiskit) (41.0.3)\n",
            "Requirement already satisfied: cffi>=1.12 in /usr/local/lib/python3.10/dist-packages (from cryptography>=1.3->requests-ntlm>=1.1.0->qiskit-ibm-provider->pennylane-qiskit) (1.15.1)\n",
            "Collecting PyJWT<3.0.0,>=2.4.0 (from ibm-cloud-sdk-core<4.0.0,>=3.16.7->ibm-platform-services>=0.22.6->qiskit-ibm-runtime->pennylane-qiskit)\n",
            "  Downloading PyJWT-2.8.0-py3-none-any.whl (22 kB)\n",
            "Collecting pbr!=2.1.0,>=2.0.0 (from stevedore>=3.0.0->qiskit-terra>=0.21->mthree>=0.17->pennylane-qiskit)\n",
            "  Downloading pbr-5.11.1-py2.py3-none-any.whl (112 kB)\n",
            "\u001b[2K     \u001b[90m━━━━━━━━━━━━━━━━━━━━━━━━━━━━━━━━━━━━━━\u001b[0m \u001b[32m112.7/112.7 kB\u001b[0m \u001b[31m10.3 MB/s\u001b[0m eta \u001b[36m0:00:00\u001b[0m\n",
            "\u001b[?25hRequirement already satisfied: mpmath>=0.19 in /usr/local/lib/python3.10/dist-packages (from sympy>=1.3->qiskit-terra>=0.21->mthree>=0.17->pennylane-qiskit) (1.3.0)\n",
            "Requirement already satisfied: pycparser in /usr/local/lib/python3.10/dist-packages (from cffi>=1.12->cryptography>=1.3->requests-ntlm>=1.1.0->qiskit-ibm-provider->pennylane-qiskit) (2.21)\n",
            "Building wheels for collected packages: ibm-platform-services, ibm-cloud-sdk-core\n",
            "  Building wheel for ibm-platform-services (pyproject.toml) ... \u001b[?25l\u001b[?25hdone\n",
            "  Created wheel for ibm-platform-services: filename=ibm_platform_services-0.39.0-py3-none-any.whl size=283097 sha256=b92f7e957a97541e7a9d8c6e93b067410c04c66c2df777bded60e8d696ca466b\n",
            "  Stored in directory: /root/.cache/pip/wheels/d4/23/c4/00ae0f0d3c94125041b40a42eb1781be59c2e2f065d694b14b\n",
            "  Building wheel for ibm-cloud-sdk-core (pyproject.toml) ... \u001b[?25l\u001b[?25hdone\n",
            "  Created wheel for ibm-cloud-sdk-core: filename=ibm_cloud_sdk_core-3.16.7-py3-none-any.whl size=85607 sha256=5cc151d89f59a3837a30afa847397bdb097d288fce405c4fbfdda8d4517b8c5e\n",
            "  Stored in directory: /root/.cache/pip/wheels/57/9c/ed/611f998db826deaeedadd824c8a0427a677136325358d79fdc\n",
            "Successfully built ibm-platform-services ibm-cloud-sdk-core\n",
            "Installing collected packages: ply, websockets, urllib3, symengine, semantic-version, rustworkx, PyJWT, pbr, orjson, ntlm-auth, dill, autoray, autograd, stevedore, requests-ntlm, qiskit-terra, ibm-cloud-sdk-core, qiskit-ibmq-provider, qiskit-ibm-provider, qiskit, ibm-platform-services, qiskit-ibm-runtime, mthree, pennylane-lightning, pennylane, pennylane-qiskit\n",
            "  Attempting uninstall: urllib3\n",
            "    Found existing installation: urllib3 2.0.4\n",
            "    Uninstalling urllib3-2.0.4:\n",
            "      Successfully uninstalled urllib3-2.0.4\n",
            "  Attempting uninstall: PyJWT\n",
            "    Found existing installation: PyJWT 2.3.0\n",
            "    Uninstalling PyJWT-2.3.0:\n",
            "      Successfully uninstalled PyJWT-2.3.0\n",
            "  Attempting uninstall: autograd\n",
            "    Found existing installation: autograd 1.6.2\n",
            "    Uninstalling autograd-1.6.2:\n",
            "      Successfully uninstalled autograd-1.6.2\n",
            "Successfully installed PyJWT-2.8.0 autograd-1.5 autoray-0.6.3 dill-0.3.7 ibm-cloud-sdk-core-3.16.7 ibm-platform-services-0.39.0 mthree-2.5.1 ntlm-auth-1.5.0 orjson-3.9.5 pbr-5.11.1 pennylane-0.31.1 pennylane-lightning-0.31.0 pennylane-qiskit-0.31.0 ply-3.11 qiskit-0.44.1 qiskit-ibm-provider-0.6.3 qiskit-ibm-runtime-0.11.3 qiskit-ibmq-provider-0.20.2 qiskit-terra-0.25.1 requests-ntlm-1.1.0 rustworkx-0.13.1 semantic-version-2.10.0 stevedore-5.1.0 symengine-0.9.2 urllib3-1.26.16 websockets-11.0.3\n"
          ]
        }
      ],
      "source": [
        "! pip install pennylane pennylane-qiskit\n",
        "import pennylane as qml\n",
        "from pennylane import numpy as np"
      ],
      "id": "346361b0"
    },
    {
      "cell_type": "code",
      "execution_count": null,
      "metadata": {
        "colab": {
          "base_uri": "https://localhost:8080/"
        },
        "id": "5939abb4",
        "outputId": "541ead3c-adc3-4f0e-a167-651a6ff38b63"
      },
      "outputs": [
        {
          "output_type": "execute_result",
          "data": {
            "text/plain": [
              "(1000,)"
            ]
          },
          "metadata": {},
          "execution_count": 2
        }
      ],
      "source": [
        "dev = qml.device(\"default.qubit\", wires=2, shots=1000)\n",
        "@qml.qnode(dev)\n",
        "def circuit():\n",
        "  qml.Hadamard(wires=0)\n",
        "  qml.CNOT(wires=[0, 1])\n",
        "  return qml.sample(qml.PauliZ(0)), qml.sample(qml.PauliZ(1))\n",
        "results = circuit()\n",
        "results[0].shape # or {results[1].shape}"
      ],
      "id": "5939abb4"
    },
    {
      "cell_type": "code",
      "execution_count": null,
      "metadata": {
        "colab": {
          "base_uri": "https://localhost:8080/"
        },
        "id": "R5agSRY2dYqx",
        "outputId": "3c7ec251-7592-4f92-fdaf-a515dd5ed692"
      },
      "outputs": [
        {
          "output_type": "stream",
          "name": "stdout",
          "text": [
            "0.004\n"
          ]
        }
      ],
      "source": [
        "print(np.mean(results))"
      ],
      "id": "R5agSRY2dYqx"
    },
    {
      "cell_type": "code",
      "source": [
        "devtest = qml.device(\"default.qubit\", wires=3)\n",
        "\n",
        "@qml.qnode(devtest)\n",
        "def circuit_test():\n",
        "    qml.Hadamard(wires=0)\n",
        "    # enter your code here (First graded code)\n",
        "    qml.PauliZ(wires=0)\n",
        "    qml.CNOT(wires=[0,2])\n",
        "    return  qml.state()# enter your code here (Second graded code)"
      ],
      "metadata": {
        "id": "YG2rZXFakpCW"
      },
      "id": "YG2rZXFakpCW",
      "execution_count": null,
      "outputs": []
    },
    {
      "cell_type": "code",
      "source": [
        "results_test = circuit_test()\n",
        "print(results_test)"
      ],
      "metadata": {
        "colab": {
          "base_uri": "https://localhost:8080/"
        },
        "id": "18GYH0qIkv1S",
        "outputId": "d565f206-f67b-4b44-ef15-465a8948362f"
      },
      "id": "18GYH0qIkv1S",
      "execution_count": null,
      "outputs": [
        {
          "output_type": "stream",
          "name": "stdout",
          "text": [
            "[ 0.70710678+0.j  0.        +0.j  0.        +0.j  0.        +0.j\n",
            " -0.        +0.j -0.70710678+0.j -0.        +0.j -0.        +0.j]\n"
          ]
        }
      ]
    },
    {
      "cell_type": "code",
      "execution_count": null,
      "metadata": {
        "colab": {
          "base_uri": "https://localhost:8080/",
          "height": 337
        },
        "id": "qPPvYDD4fAOL",
        "outputId": "3967e5fd-eb9c-4f1a-87e5-5457c945bee9"
      },
      "outputs": [
        {
          "output_type": "display_data",
          "data": {
            "text/plain": [
              "<Figure size 500x300 with 1 Axes>"
            ],
            "image/png": "[encoded data removed]"
          },
          "metadata": {}
        }
      ],
      "source": [
        "import matplotlib.pyplot as plt\n",
        "qml.drawer.use_style(\"black_white\")\n",
        "fig, ax = qml.draw_mpl(circuit)()\n",
        "plt.show()"
      ],
      "id": "qPPvYDD4fAOL"
    },
    {
      "cell_type": "code",
      "execution_count": null,
      "metadata": {
        "id": "b02a92f9"
      },
      "outputs": [],
      "source": [
        "dev = qml.device(\"default.qubit\", wires=3)\n",
        "\n",
        "@qml.qnode(dev)\n",
        "def circuit():\n",
        "    qml.Hadamard(wires=0)\n",
        "    # enter your code here (First graded code)\n",
        "    qml.PauliZ(wires=0)\n",
        "    qml.CNOT(wires=[0,2])\n",
        "    return  qml.expval(qml.PauliZ(0)),qml.expval(qml.PauliZ(1))# enter your code here (Second graded code)"
      ],
      "id": "b02a92f9"
    },
    {
      "cell_type": "code",
      "execution_count": null,
      "metadata": {
        "colab": {
          "base_uri": "https://localhost:8080/",
          "height": 436
        },
        "id": "q4cIEB2htgV1",
        "outputId": "de194eb8-9570-49cf-9ffa-4bbfb8c9de4d"
      },
      "outputs": [
        {
          "output_type": "display_data",
          "data": {
            "text/plain": [
              "<Figure size 600x400 with 1 Axes>"
            ],
            "image/png": "[encoded data removed]"
          },
          "metadata": {}
        }
      ],
      "source": [
        "import matplotlib.pyplot as plt\n",
        "qml.drawer.use_style(\"black_white\")\n",
        "fig, ax = qml.draw_mpl(circuit)()\n",
        "plt.show()"
      ],
      "id": "q4cIEB2htgV1"
    },
    {
      "cell_type": "markdown",
      "metadata": {
        "id": "ea062228"
      },
      "source": [
        "# Parameterized Gates\n",
        "In this phase of your assignment, you should apply single qubit (Z,Y) rotations to one qubit in order and evaluate the returned values of the defined quantum node\n",
        "\n",
        "HINT:\n",
        "\n",
        "1) Please consider the order (Z,Y)             \n",
        "2) Try to parameterize your Gates using {params[i] for ith parameter}\n",
        "\n",
        "\n",
        "\n",
        "\n",
        "For your fourth and last graded code in this assignment, you should modify the return value pf parameterized_circuit(params) in order to evaluate the tensor product of observables $Z\\otimes Y \\otimes X$\n",
        "\n",
        "HINT:\n",
        "1) use this pattern as we talked in the class { qml.expval(PauliZ(...) @ ...) }"
      ],
      "id": "ea062228"
    },
    {
      "cell_type": "code",
      "execution_count": null,
      "metadata": {
        "id": "1c31e0ed"
      },
      "outputs": [],
      "source": [
        "dev2 = qml.device(\"default.qubit\", wires=1)\n",
        "\n",
        "@qml.qnode(dev2)\n",
        "def parameterized_circuit(params):\n",
        "    # enter your code here (Third graded code)\n",
        "    qml.RZ(params[0],wires=0)\n",
        "    qml.RY(params[1],wires=0)\n",
        "    return  qml.expval(qml.PauliZ(0)@qml.PauliY(0)@qml.PauliX(0)) # enter your code here (Fourth graded code)"
      ],
      "id": "1c31e0ed"
    },
    {
      "cell_type": "code",
      "source": [
        "params=np.random.rand(3)\n",
        "qml.drawer.use_style(\"black_white\")\n",
        "fig, ax = qml.draw_mpl(parameterized_circuit)(params)\n",
        "plt.show()"
      ],
      "metadata": {
        "colab": {
          "base_uri": "https://localhost:8080/",
          "height": 328
        },
        "id": "1T5N6ca1jxyY",
        "outputId": "74769f04-c0b7-4bc5-ca8e-b3f60f7583c5"
      },
      "id": "1T5N6ca1jxyY",
      "execution_count": null,
      "outputs": [
        {
          "output_type": "stream",
          "name": "stderr",
          "text": [
            "/usr/local/lib/python3.10/dist-packages/pennylane/operation.py:1945: UserWarning: Tensor object acts on overlapping wires; in some PennyLane functions this will lead to undefined behaviour\n",
            "  warnings.warn(\n",
            "/usr/local/lib/python3.10/dist-packages/pennylane/operation.py:2141: UserWarning: Tensor object acts on overlapping wires; in some PennyLane functions this will lead to undefined behaviour\n",
            "  warnings.warn(\n"
          ]
        },
        {
          "output_type": "display_data",
          "data": {
            "text/plain": [
              "<Figure size 500x200 with 1 Axes>"
            ],
            "image/png": "[encoded data removed]"
          },
          "metadata": {}
        }
      ]
    },
    {
      "cell_type": "markdown",
      "metadata": {
        "id": "dafe1c42"
      },
      "source": [
        "Cell below will initialize the parameters of the  parameterized_circuit and compute the the returned value of the function.\n",
        "one can notice ,due to the random initialization, the mentioned value will be differernt during each cell run."
      ],
      "id": "dafe1c42"
    },
    {
      "cell_type": "code",
      "execution_count": null,
      "metadata": {
        "id": "92b2ae11",
        "colab": {
          "base_uri": "https://localhost:8080/"
        },
        "outputId": "426f131f-305c-44c0-9b9a-0d16e9ba16ce"
      },
      "outputs": [
        {
          "output_type": "stream",
          "name": "stderr",
          "text": [
            "/usr/local/lib/python3.10/dist-packages/pennylane/operation.py:1945: UserWarning: Tensor object acts on overlapping wires; in some PennyLane functions this will lead to undefined behaviour\n",
            "  warnings.warn(\n",
            "/usr/local/lib/python3.10/dist-packages/pennylane/operation.py:2141: UserWarning: Tensor object acts on overlapping wires; in some PennyLane functions this will lead to undefined behaviour\n",
            "  warnings.warn(\n"
          ]
        },
        {
          "output_type": "execute_result",
          "data": {
            "text/plain": [
              "tensor(0.98723065, requires_grad=True)"
            ]
          },
          "metadata": {},
          "execution_count": 21
        }
      ],
      "source": [
        "params=np.random.rand(3)\n",
        "parameterized_circuit(params)"
      ],
      "id": "92b2ae11"
    }
  ],
  "metadata": {
    "colab": {
      "provenance": []
    },
    "kernelspec": {
      "display_name": "Python 3",
      "language": "python",
      "name": "python3"
    },
    "language_info": {
      "codemirror_mode": {
        "name": "ipython",
        "version": 3
      },
      "file_extension": ".py",
      "mimetype": "text/x-python",
      "name": "python",
      "nbconvert_exporter": "python",
      "pygments_lexer": "ipython3",
      "version": "3.8.10"
    }
  },
  "nbformat": 4,
  "nbformat_minor": 5
}