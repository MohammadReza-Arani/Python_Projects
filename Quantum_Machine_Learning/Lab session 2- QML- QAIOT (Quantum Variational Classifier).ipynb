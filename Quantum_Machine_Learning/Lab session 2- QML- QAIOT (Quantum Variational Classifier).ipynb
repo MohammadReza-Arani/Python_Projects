{
 "cells": [
  {
   "cell_type": "markdown",
   "id": "1bb1ae9c",
   "metadata": {},
   "source": [
    "# Lab session 2- QML- QAIOT (Quantum Variational Classifier)"
   ]
  },
  {
   "cell_type": "code",
   "execution_count": 17,
   "id": "2753e43c",
   "metadata": {},
   "outputs": [
    {
     "name": "stdout",
     "output_type": "stream",
     "text": [
      "done!\n"
     ]
    }
   ],
   "source": [
    "import pennylane as qml\n",
    "from pennylane import numpy as np\n",
    "from pennylane.optimize import NesterovMomentumOptimizer\n",
    "print(\"done!\")"
   ]
  },
  {
   "cell_type": "code",
   "execution_count": 18,
   "id": "516d7bcc",
   "metadata": {},
   "outputs": [],
   "source": [
    "dev = qml.device(\"default.qubit\", wires=2)"
   ]
  },
  {
   "cell_type": "code",
   "execution_count": 19,
   "id": "7dc51006",
   "metadata": {},
   "outputs": [],
   "source": [
    "def layer(W):\n",
    "    qml.Rot(W[0, 0], W[0, 1], W[0, 2], wires=0)\n",
    "    qml.Rot(W[1, 0], W[1, 1], W[1, 2], wires=1)\n",
    "    qml.CNOT(wires=[0, 1])"
   ]
  },
  {
   "cell_type": "code",
   "execution_count": 20,
   "id": "baaa59b6",
   "metadata": {},
   "outputs": [],
   "source": [
    "@qml.qnode(dev, interface=\"autograd\")\n",
    "def circuit(weights, feature):\n",
    "    qml.AmplitudeEmbedding(feature,wires=[0,1],pad_with=0.,normalize=True)\n",
    "\n",
    "    for W in weights:\n",
    "        layer(W)\n",
    "\n",
    "    return qml.expval(qml.PauliZ(0))"
   ]
  },
  {
   "cell_type": "code",
   "execution_count": 21,
   "id": "377f3353",
   "metadata": {},
   "outputs": [],
   "source": [
    "def square_loss(labels, predictions):\n",
    "    loss = 0\n",
    "    for l, p in zip(labels, predictions):\n",
    "        loss = loss + (l - p) ** 2\n",
    "\n",
    "    loss = loss / len(labels)\n",
    "    return loss"
   ]
  },
  {
   "cell_type": "code",
   "execution_count": 22,
   "id": "c15bb8f4",
   "metadata": {},
   "outputs": [],
   "source": [
    "def accuracy(labels, predictions):\n",
    "\n",
    "    loss = 0\n",
    "    for l, p in zip(labels, predictions):\n",
    "        if abs(l - p) < 1e-5:\n",
    "            loss = loss + 1\n",
    "    loss = loss / len(labels)\n",
    "\n",
    "    return loss"
   ]
  },
  {
   "cell_type": "code",
   "execution_count": 23,
   "id": "45aae645",
   "metadata": {},
   "outputs": [],
   "source": [
    "def variational_classifier(weights, bias, feature):\n",
    "    return circuit(weights, feature) + bias\n",
    "\n",
    "\n",
    "def cost(weights, bias, features, labels):\n",
    "    predictions = [variational_classifier(weights, bias, f) for f in features]\n",
    "    return square_loss(labels, predictions)\n"
   ]
  },
  {
   "cell_type": "code",
   "execution_count": 24,
   "id": "5a37ba02",
   "metadata": {},
   "outputs": [
    {
     "name": "stdout",
     "output_type": "stream",
     "text": [
      "First X sample (original)  : [0.4  0.75]\n"
     ]
    }
   ],
   "source": [
    "data = np.loadtxt(r\"C:\\Users\\UTOB\\variational_classifer\\data\\file.txt\")\n",
    "X = data[:, 0:2]\n",
    "print(\"First X sample (original)  :\", X[0])\n",
    "# pad the vectors to size 2^2 with constant values\n",
    "\n",
    "Y = data[:, -1]"
   ]
  },
  {
   "cell_type": "markdown",
   "id": "24f42439",
   "metadata": {},
   "source": [
    "In summary, Following cell randomly shuffles the indices of the data and then splits the features and labels into training and validation sets. The split ratio is 75% for training and 25% for validation. This is a common technique in machine learning to ensure that the model is trained on one subset of the data and validated on another, unseen subset to evaluate its performance."
   ]
  },
  {
   "cell_type": "code",
   "execution_count": 25,
   "id": "b5096514",
   "metadata": {},
   "outputs": [],
   "source": [
    "np.random.seed(0)\n",
    "num_data = len(Y)\n",
    "num_train = int(0.75 * num_data)\n",
    "index = np.random.permutation(range(num_data))\n",
    "feats_train = X[index[:num_train]]\n",
    "Y_train = Y[index[:num_train]]\n",
    "feats_val = X[index[num_train:]]\n",
    "Y_val = Y[index[num_train:]]\n"
   ]
  },
  {
   "cell_type": "code",
   "execution_count": 26,
   "id": "23c884d8",
   "metadata": {},
   "outputs": [],
   "source": [
    "num_qubits = 2\n",
    "num_layers = 6\n",
    "\n",
    "weights_init = 0.01 * np.random.randn(num_layers, num_qubits, 3, requires_grad=True)\n",
    "bias_init = np.array(0.0, requires_grad=True)"
   ]
  },
  {
   "cell_type": "code",
   "execution_count": 27,
   "id": "5284d7ff",
   "metadata": {},
   "outputs": [
    {
     "name": "stdout",
     "output_type": "stream",
     "text": [
      "Iter:     1 | Cost: 1.9518638  \n",
      "Iter:     2 | Cost: 1.8665312  \n",
      "Iter:     3 | Cost: 1.7408356  \n",
      "Iter:     4 | Cost: 1.5919188  \n",
      "Iter:     5 | Cost: 1.4586050  \n",
      "Iter:     6 | Cost: 1.3433952  \n",
      "Iter:     7 | Cost: 1.2472508  \n",
      "Iter:     8 | Cost: 1.1775527  \n",
      "Iter:     9 | Cost: 1.1098615  \n",
      "Iter:    10 | Cost: 1.0668143  \n"
     ]
    }
   ],
   "source": [
    "opt = NesterovMomentumOptimizer(0.01)\n",
    "batch_size = 5\n",
    "# The batch size for mini-batch training is set to 5. This means that during each optimization step, only 5 data points will be used to compute the gradient and update the model parameters.\n",
    "\n",
    "# train the variational classifier\n",
    "weights = weights_init\n",
    "bias = bias_init\n",
    "for it in range(10):\n",
    "\n",
    "    # Update the weights by one optimizer step\n",
    "    batch_index = np.random.randint(0, num_train, (batch_size,))\n",
    "    feats_train_batch = feats_train[batch_index]\n",
    "    Y_train_batch = Y_train[batch_index]\n",
    "    weights, bias, _, _ = opt.step(cost, weights, bias, feats_train_batch, Y_train_batch)\n",
    "\n",
    "    # Compute predictions on train and validation set\n",
    "    predictions_train = [np.sign(variational_classifier(weights, bias, f)) for f in feats_train]\n",
    "    predictions_val = [np.sign(variational_classifier(weights, bias, f)) for f in feats_val]\n",
    "\n",
    "    # Compute accuracy on train and validation set\n",
    "    acc_train = accuracy(Y_train, predictions_train)\n",
    "    acc_val = accuracy(Y_val, predictions_val)\n",
    "\n",
    "    print(\n",
    "        \"Iter: {:5d} | Cost: {:0.7f}  \"\n",
    "        \"\".format(it + 1, cost(weights, bias, X, Y))\n",
    "    )"
   ]
  }
 ],
 "metadata": {
  "kernelspec": {
   "display_name": "Python 3",
   "language": "python",
   "name": "python3"
  },
  "language_info": {
   "codemirror_mode": {
    "name": "ipython",
    "version": 3
   },
   "file_extension": ".py",
   "mimetype": "text/x-python",
   "name": "python",
   "nbconvert_exporter": "python",
   "pygments_lexer": "ipython3",
   "version": "3.8.8"
  }
 },
 "nbformat": 4,
 "nbformat_minor": 5
}
