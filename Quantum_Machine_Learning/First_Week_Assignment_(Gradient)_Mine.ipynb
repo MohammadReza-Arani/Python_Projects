{
  "cells": [
    {
      "cell_type": "markdown",
      "id": "6597c197",
      "metadata": {
        "id": "6597c197"
      },
      "source": [
        "# Gradient\n",
        "\n",
        "\n",
        "In this assignment, we are going to evaluate gradients of the special circuits with the respect to differentiable parameter"
      ]
    },
    {
      "cell_type": "code",
      "source": [
        "! pip install pennylane"
      ],
      "metadata": {
        "colab": {
          "base_uri": "https://localhost:8080/"
        },
        "id": "R1VOHBJee91W",
        "outputId": "0c68539b-cc15-4936-f339-fb231a2087b5"
      },
      "id": "R1VOHBJee91W",
      "execution_count": null,
      "outputs": [
        {
          "output_type": "stream",
          "name": "stdout",
          "text": [
            "Collecting pennylane\n",
            "  Downloading PennyLane-0.31.1-py3-none-any.whl (1.5 MB)\n",
            "\u001b[2K     \u001b[90m━━━━━━━━━━━━━━━━━━━━━━━━━━━━━━━━━━━━━━━━\u001b[0m \u001b[32m1.5/1.5 MB\u001b[0m \u001b[31m28.9 MB/s\u001b[0m eta \u001b[36m0:00:00\u001b[0m\n",
            "\u001b[?25hRequirement already satisfied: numpy<1.24 in /usr/local/lib/python3.10/dist-packages (from pennylane) (1.23.5)\n",
            "Requirement already satisfied: scipy in /usr/local/lib/python3.10/dist-packages (from pennylane) (1.10.1)\n",
            "Requirement already satisfied: networkx in /usr/local/lib/python3.10/dist-packages (from pennylane) (3.1)\n",
            "Collecting rustworkx (from pennylane)\n",
            "  Downloading rustworkx-0.13.1-cp310-cp310-manylinux_2_17_x86_64.manylinux2014_x86_64.whl (2.0 MB)\n",
            "\u001b[2K     \u001b[90m━━━━━━━━━━━━━━━━━━━━━━━━━━━━━━━━━━━━━━━━\u001b[0m \u001b[32m2.0/2.0 MB\u001b[0m \u001b[31m67.3 MB/s\u001b[0m eta \u001b[36m0:00:00\u001b[0m\n",
            "\u001b[?25hCollecting autograd<=1.5 (from pennylane)\n",
            "  Downloading autograd-1.5-py3-none-any.whl (48 kB)\n",
            "\u001b[2K     \u001b[90m━━━━━━━━━━━━━━━━━━━━━━━━━━━━━━━━━━━━━━━━\u001b[0m \u001b[32m48.9/48.9 kB\u001b[0m \u001b[31m5.1 MB/s\u001b[0m eta \u001b[36m0:00:00\u001b[0m\n",
            "\u001b[?25hRequirement already satisfied: toml in /usr/local/lib/python3.10/dist-packages (from pennylane) (0.10.2)\n",
            "Requirement already satisfied: appdirs in /usr/local/lib/python3.10/dist-packages (from pennylane) (1.4.4)\n",
            "Collecting semantic-version>=2.7 (from pennylane)\n",
            "  Downloading semantic_version-2.10.0-py2.py3-none-any.whl (15 kB)\n",
            "Collecting autoray<=0.6.3,>=0.3.1 (from pennylane)\n",
            "  Downloading autoray-0.6.3-py3-none-any.whl (48 kB)\n",
            "\u001b[2K     \u001b[90m━━━━━━━━━━━━━━━━━━━━━━━━━━━━━━━━━━━━━━━━\u001b[0m \u001b[32m48.3/48.3 kB\u001b[0m \u001b[31m5.8 MB/s\u001b[0m eta \u001b[36m0:00:00\u001b[0m\n",
            "\u001b[?25hRequirement already satisfied: cachetools in /usr/local/lib/python3.10/dist-packages (from pennylane) (5.3.1)\n",
            "Collecting pennylane-lightning>=0.31 (from pennylane)\n",
            "  Downloading PennyLane_Lightning-0.31.0-cp310-cp310-manylinux_2_17_x86_64.manylinux2014_x86_64.whl (16.6 MB)\n",
            "\u001b[2K     \u001b[90m━━━━━━━━━━━━━━━━━━━━━━━━━━━━━━━━━━━━━━━━\u001b[0m \u001b[32m16.6/16.6 MB\u001b[0m \u001b[31m88.0 MB/s\u001b[0m eta \u001b[36m0:00:00\u001b[0m\n",
            "\u001b[?25hRequirement already satisfied: requests in /usr/local/lib/python3.10/dist-packages (from pennylane) (2.31.0)\n",
            "Requirement already satisfied: typing-extensions in /usr/local/lib/python3.10/dist-packages (from pennylane) (4.7.1)\n",
            "Requirement already satisfied: future>=0.15.2 in /usr/local/lib/python3.10/dist-packages (from autograd<=1.5->pennylane) (0.18.3)\n",
            "Requirement already satisfied: charset-normalizer<4,>=2 in /usr/local/lib/python3.10/dist-packages (from requests->pennylane) (3.2.0)\n",
            "Requirement already satisfied: idna<4,>=2.5 in /usr/local/lib/python3.10/dist-packages (from requests->pennylane) (3.4)\n",
            "Requirement already satisfied: urllib3<3,>=1.21.1 in /usr/local/lib/python3.10/dist-packages (from requests->pennylane) (2.0.4)\n",
            "Requirement already satisfied: certifi>=2017.4.17 in /usr/local/lib/python3.10/dist-packages (from requests->pennylane) (2023.7.22)\n",
            "Installing collected packages: semantic-version, rustworkx, autoray, autograd, pennylane-lightning, pennylane\n",
            "  Attempting uninstall: autograd\n",
            "    Found existing installation: autograd 1.6.2\n",
            "    Uninstalling autograd-1.6.2:\n",
            "      Successfully uninstalled autograd-1.6.2\n",
            "Successfully installed autograd-1.5 autoray-0.6.3 pennylane-0.31.1 pennylane-lightning-0.31.0 rustworkx-0.13.1 semantic-version-2.10.0\n"
          ]
        }
      ]
    },
    {
      "cell_type": "code",
      "execution_count": null,
      "id": "1650715e",
      "metadata": {
        "id": "1650715e"
      },
      "outputs": [],
      "source": [
        "import pennylane as qml\n",
        "from pennylane import numpy as np"
      ]
    },
    {
      "cell_type": "markdown",
      "id": "9ce49c3a",
      "metadata": {
        "id": "9ce49c3a"
      },
      "source": [
        "In the code cell below, the quantum node is parameterized with {params}"
      ]
    },
    {
      "cell_type": "code",
      "execution_count": null,
      "id": "792ec8fa",
      "metadata": {
        "id": "792ec8fa"
      },
      "outputs": [],
      "source": [
        "dev = qml.device('default.qubit', wires=2)\n",
        "\n",
        "@qml.qnode(dev)\n",
        "def circuit(params):\n",
        "    qml.RX(params[0], wires=0)\n",
        "    qml.RY(params[1], wires=1)\n",
        "    qml.CNOT(wires=[0, 1])\n",
        "    qml.PhaseShift(params[2], wires=0)\n",
        "    return qml.expval(qml.PauliZ(0))"
      ]
    },
    {
      "cell_type": "markdown",
      "id": "f0beb56c",
      "metadata": {
        "id": "f0beb56c"
      },
      "source": [
        "For your first and second graded code you should write a code to evalute gradient with the respect to {params}\n",
        "\n",
        "\n",
        "First you should initialize your params and specify them as differentiable parameter\n",
        "\n",
        "use {np.random.rand and requires_grad}, then use {qml.grad} to calculate gradient"
      ]
    },
    {
      "cell_type": "code",
      "execution_count": null,
      "id": "bcd84231",
      "metadata": {
        "colab": {
          "base_uri": "https://localhost:8080/"
        },
        "id": "bcd84231",
        "outputId": "16b83321-4473-43d6-9f09-732b1922aa24"
      },
      "outputs": [
        {
          "output_type": "execute_result",
          "data": {
            "text/plain": [
              "array([-7.44734589e-01,  2.77555756e-17,  0.00000000e+00])"
            ]
          },
          "metadata": {},
          "execution_count": 4
        }
      ],
      "source": [
        "params=np.random.rand(3,requires_grad=True)# enter your code here (First graded code)\n",
        "dcircuit=qml.grad(circuit)# enter your code here (Second graded code)\n",
        "dcircuit(params)"
      ]
    },
    {
      "cell_type": "markdown",
      "id": "06947b83",
      "metadata": {
        "id": "06947b83"
      },
      "source": [
        "In the code cell below, the quantum node is parameterized with {phi,theta}"
      ]
    },
    {
      "cell_type": "code",
      "execution_count": null,
      "id": "92eb4660",
      "metadata": {
        "id": "92eb4660"
      },
      "outputs": [],
      "source": [
        "dev2 = qml.device('default.qubit', wires=2)\n",
        "\n",
        "@qml.qnode(dev2)\n",
        "def circuit2(phi, theta):\n",
        "    qml.RX(phi[0], wires=0)\n",
        "    qml.RY(phi[1], wires=1)\n",
        "    qml.CNOT(wires=[0, 1])\n",
        "    qml.PhaseShift(theta, wires=0)\n",
        "    return qml.expval(qml.PauliZ(0))"
      ]
    },
    {
      "cell_type": "markdown",
      "id": "ed09fa13",
      "metadata": {
        "id": "ed09fa13"
      },
      "source": [
        "Now, you should write a code to evalute gradient with the respect to both {phi,theta}\n",
        "\n",
        "First you should initialize your params and specify them as differentiable parameter\n",
        "\n",
        "use {requires_grad} (HINT:initial value for phi and theta are as follows)\n",
        "\n",
        "\n",
        "\n",
        "phi = [0.5,0.1]\n",
        "\n",
        "\n",
        "\n",
        "theta=[0.2]\n",
        "\n",
        "\n",
        "\n",
        "\n",
        "then use {qml.grad} to calculate gradient"
      ]
    },
    {
      "cell_type": "code",
      "execution_count": null,
      "id": "8238c140",
      "metadata": {
        "id": "8238c140"
      },
      "outputs": [],
      "source": [
        "# enter your code here\n",
        "phi=np.array([0.5,0.1],requires_grad=True)# (Third graded code)\n",
        "theta=np.array(0.2,requires_grad=True)# (Fourth graded)\n",
        "dcircuit=qml.grad(circuit2)# (Fifth graded code)"
      ]
    },
    {
      "cell_type": "code",
      "execution_count": null,
      "id": "7e06147c",
      "metadata": {
        "colab": {
          "base_uri": "https://localhost:8080/"
        },
        "id": "7e06147c",
        "outputId": "fb464a9e-2873-4f41-b85f-420df3cf2450"
      },
      "outputs": [
        {
          "output_type": "execute_result",
          "data": {
            "text/plain": [
              "(array([-4.79425539e-01, -6.93889390e-18]),\n",
              " tensor(-3.46944695e-18, requires_grad=True))"
            ]
          },
          "metadata": {},
          "execution_count": 9
        }
      ],
      "source": [
        "dcircuit(phi,theta)"
      ]
    },
    {
      "cell_type": "markdown",
      "id": "1cf5186d",
      "metadata": {
        "id": "1cf5186d"
      },
      "source": [
        "Please pay attention to code cells below"
      ]
    },
    {
      "cell_type": "code",
      "execution_count": null,
      "id": "c0c213e4",
      "metadata": {
        "id": "c0c213e4"
      },
      "outputs": [],
      "source": [
        "dev3 = qml.device('default.qubit', wires=2)\n",
        "\n",
        "@qml.qnode(dev3)\n",
        "def circuit3(params):\n",
        "    qml.Hadamard(wires=0)\n",
        "    qml.CNOT(wires=[0, 1])\n",
        "    qml.RX(params[0], wires=0)\n",
        "    qml.RY(params[1], wires=1)\n",
        "    qml.CNOT(wires=[0, 1])\n",
        "    return qml.expval(qml.PauliY(0)), qml.expval(qml.PauliZ(1))"
      ]
    },
    {
      "cell_type": "code",
      "execution_count": null,
      "id": "645ccc33",
      "metadata": {
        "id": "645ccc33",
        "outputId": "97515cac-8525-4fc9-8ab3-fdfeec9a2ec3"
      },
      "outputs": [
        {
          "data": {
            "text/plain": [
              "array([[-0.05723617, -0.12775281,  0.        ],\n",
              "       [-0.12775281, -0.05723617,  0.        ]])"
            ]
          },
          "execution_count": 14,
          "metadata": {},
          "output_type": "execute_result"
        }
      ],
      "source": [
        "j1 =qml.jacobian(lambda x: np.stack(circuit3(x)))\n",
        "j1(params)"
      ]
    }
  ],
  "metadata": {
    "kernelspec": {
      "display_name": "Python 3",
      "language": "python",
      "name": "python3"
    },
    "language_info": {
      "codemirror_mode": {
        "name": "ipython",
        "version": 3
      },
      "file_extension": ".py",
      "mimetype": "text/x-python",
      "name": "python",
      "nbconvert_exporter": "python",
      "pygments_lexer": "ipython3",
      "version": "3.8.8"
    },
    "colab": {
      "provenance": []
    }
  },
  "nbformat": 4,
  "nbformat_minor": 5
}