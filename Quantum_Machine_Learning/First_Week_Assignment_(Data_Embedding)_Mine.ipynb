{
  "cells": [
    {
      "cell_type": "markdown",
      "id": "ed35308b",
      "metadata": {
        "id": "ed35308b"
      },
      "source": [
        "# Data Embedding\n",
        "\n",
        "1) Basic Embedding"
      ]
    },
    {
      "cell_type": "code",
      "source": [
        "!pip install pennylane"
      ],
      "metadata": {
        "colab": {
          "base_uri": "https://localhost:8080/"
        },
        "id": "oLOOLuxyjGzS",
        "outputId": "a53864b0-3644-4693-a5ea-4adea6f8d038"
      },
      "id": "oLOOLuxyjGzS",
      "execution_count": null,
      "outputs": [
        {
          "output_type": "stream",
          "name": "stdout",
          "text": [
            "Collecting pennylane\n",
            "  Downloading PennyLane-0.31.1-py3-none-any.whl (1.5 MB)\n",
            "\u001b[2K     \u001b[90m━━━━━━━━━━━━━━━━━━━━━━━━━━━━━━━━━━━━━━━━\u001b[0m \u001b[32m1.5/1.5 MB\u001b[0m \u001b[31m7.7 MB/s\u001b[0m eta \u001b[36m0:00:00\u001b[0m\n",
            "\u001b[?25hRequirement already satisfied: numpy<1.24 in /usr/local/lib/python3.10/dist-packages (from pennylane) (1.23.5)\n",
            "Requirement already satisfied: scipy in /usr/local/lib/python3.10/dist-packages (from pennylane) (1.10.1)\n",
            "Requirement already satisfied: networkx in /usr/local/lib/python3.10/dist-packages (from pennylane) (3.1)\n",
            "Collecting rustworkx (from pennylane)\n",
            "  Downloading rustworkx-0.13.1-cp310-cp310-manylinux_2_17_x86_64.manylinux2014_x86_64.whl (2.0 MB)\n",
            "\u001b[2K     \u001b[90m━━━━━━━━━━━━━━━━━━━━━━━━━━━━━━━━━━━━━━━━\u001b[0m \u001b[32m2.0/2.0 MB\u001b[0m \u001b[31m15.0 MB/s\u001b[0m eta \u001b[36m0:00:00\u001b[0m\n",
            "\u001b[?25hCollecting autograd<=1.5 (from pennylane)\n",
            "  Downloading autograd-1.5-py3-none-any.whl (48 kB)\n",
            "\u001b[2K     \u001b[90m━━━━━━━━━━━━━━━━━━━━━━━━━━━━━━━━━━━━━━━━\u001b[0m \u001b[32m48.9/48.9 kB\u001b[0m \u001b[31m6.0 MB/s\u001b[0m eta \u001b[36m0:00:00\u001b[0m\n",
            "\u001b[?25hRequirement already satisfied: toml in /usr/local/lib/python3.10/dist-packages (from pennylane) (0.10.2)\n",
            "Requirement already satisfied: appdirs in /usr/local/lib/python3.10/dist-packages (from pennylane) (1.4.4)\n",
            "Collecting semantic-version>=2.7 (from pennylane)\n",
            "  Downloading semantic_version-2.10.0-py2.py3-none-any.whl (15 kB)\n",
            "Collecting autoray<=0.6.3,>=0.3.1 (from pennylane)\n",
            "  Downloading autoray-0.6.3-py3-none-any.whl (48 kB)\n",
            "\u001b[2K     \u001b[90m━━━━━━━━━━━━━━━━━━━━━━━━━━━━━━━━━━━━━━━━\u001b[0m \u001b[32m48.3/48.3 kB\u001b[0m \u001b[31m6.0 MB/s\u001b[0m eta \u001b[36m0:00:00\u001b[0m\n",
            "\u001b[?25hRequirement already satisfied: cachetools in /usr/local/lib/python3.10/dist-packages (from pennylane) (5.3.1)\n",
            "Collecting pennylane-lightning>=0.31 (from pennylane)\n",
            "  Downloading PennyLane_Lightning-0.31.0-cp310-cp310-manylinux_2_17_x86_64.manylinux2014_x86_64.whl (16.6 MB)\n",
            "\u001b[2K     \u001b[90m━━━━━━━━━━━━━━━━━━━━━━━━━━━━━━━━━━━━━━━━\u001b[0m \u001b[32m16.6/16.6 MB\u001b[0m \u001b[31m42.7 MB/s\u001b[0m eta \u001b[36m0:00:00\u001b[0m\n",
            "\u001b[?25hRequirement already satisfied: requests in /usr/local/lib/python3.10/dist-packages (from pennylane) (2.31.0)\n",
            "Requirement already satisfied: typing-extensions in /usr/local/lib/python3.10/dist-packages (from pennylane) (4.7.1)\n",
            "Requirement already satisfied: future>=0.15.2 in /usr/local/lib/python3.10/dist-packages (from autograd<=1.5->pennylane) (0.18.3)\n",
            "Requirement already satisfied: charset-normalizer<4,>=2 in /usr/local/lib/python3.10/dist-packages (from requests->pennylane) (3.2.0)\n",
            "Requirement already satisfied: idna<4,>=2.5 in /usr/local/lib/python3.10/dist-packages (from requests->pennylane) (3.4)\n",
            "Requirement already satisfied: urllib3<3,>=1.21.1 in /usr/local/lib/python3.10/dist-packages (from requests->pennylane) (2.0.4)\n",
            "Requirement already satisfied: certifi>=2017.4.17 in /usr/local/lib/python3.10/dist-packages (from requests->pennylane) (2023.7.22)\n",
            "Installing collected packages: semantic-version, rustworkx, autoray, autograd, pennylane-lightning, pennylane\n",
            "  Attempting uninstall: autograd\n",
            "    Found existing installation: autograd 1.6.2\n",
            "    Uninstalling autograd-1.6.2:\n",
            "      Successfully uninstalled autograd-1.6.2\n",
            "Successfully installed autograd-1.5 autoray-0.6.3 pennylane-0.31.1 pennylane-lightning-0.31.0 rustworkx-0.13.1 semantic-version-2.10.0\n"
          ]
        }
      ]
    },
    {
      "cell_type": "code",
      "execution_count": null,
      "id": "6b44a2e8",
      "metadata": {
        "id": "6b44a2e8"
      },
      "outputs": [],
      "source": [
        "import pennylane as qml\n",
        "from pennylane import numpy as np"
      ]
    },
    {
      "cell_type": "markdown",
      "id": "9fd38093",
      "metadata": {
        "id": "9fd38093"
      },
      "source": [
        "For your first graded assignment, call proper embedding template"
      ]
    },
    {
      "cell_type": "code",
      "execution_count": null,
      "id": "23a61c7a",
      "metadata": {
        "id": "23a61c7a"
      },
      "outputs": [],
      "source": [
        "dev = qml.device('default.qubit', wires=4)\n",
        "\n",
        "@qml.qnode(dev)\n",
        "def circuit(feature_vector):\n",
        "    # enter your code here (First graded code)\n",
        "    qml.BasisEmbedding(features=feature_vector,wires=range(4))\n",
        "    return qml.state()\n",
        "\n"
      ]
    },
    {
      "cell_type": "markdown",
      "id": "cc52ce33",
      "metadata": {
        "id": "cc52ce33"
      },
      "source": [
        "Define vector X in order to encode binary $1010$ to quantum state $|1010\\rangle$"
      ]
    },
    {
      "cell_type": "code",
      "execution_count": null,
      "id": "e63731c4",
      "metadata": {
        "id": "e63731c4"
      },
      "outputs": [],
      "source": [
        "# enter your code here (Second graded code)\n",
        "X=[1,0,1,0]"
      ]
    },
    {
      "cell_type": "code",
      "execution_count": null,
      "id": "bcf93ae7",
      "metadata": {
        "colab": {
          "base_uri": "https://localhost:8080/"
        },
        "id": "bcf93ae7",
        "outputId": "4a4d63d3-e611-4f82-d789-ee14a8dfda97"
      },
      "outputs": [
        {
          "output_type": "stream",
          "name": "stdout",
          "text": [
            "[0.+0.j 0.+0.j 0.+0.j 0.+0.j 0.+0.j 0.+0.j 0.+0.j 0.+0.j 0.+0.j 0.+0.j\n",
            " 1.+0.j 0.+0.j 0.+0.j 0.+0.j 0.+0.j 0.+0.j]\n"
          ]
        }
      ],
      "source": [
        "print(circuit(X))"
      ]
    },
    {
      "cell_type": "markdown",
      "id": "8ca244be",
      "metadata": {
        "id": "8ca244be"
      },
      "source": [
        "\n",
        "\n",
        "\n",
        "\n",
        "2) Angle Embedding\n",
        "\n",
        "\n",
        "Call proper embedding template in the quantum node below, use rotation='Y' to encode vector [0.83,0.24,0.35]"
      ]
    },
    {
      "cell_type": "code",
      "execution_count": null,
      "id": "58a63980",
      "metadata": {
        "id": "58a63980"
      },
      "outputs": [],
      "source": [
        "dev2 = qml.device('default.qubit', wires=3)\n",
        "\n",
        "@qml.qnode(dev2)\n",
        "def circuit2(feature_vector):\n",
        "    # enter your code here (Third graded code)\n",
        "    qml.AngleEmbedding(features=feature_vector,wires=range(3),rotation='Y')\n",
        "    qml.Hadamard(0)\n",
        "    return qml.probs(wires=range(3))\n",
        "\n"
      ]
    },
    {
      "cell_type": "code",
      "execution_count": null,
      "id": "e9ee8b58",
      "metadata": {
        "id": "e9ee8b58"
      },
      "outputs": [],
      "source": [
        "Y=[0.83,0.24,0.35]"
      ]
    },
    {
      "cell_type": "code",
      "execution_count": null,
      "id": "869ea42c",
      "metadata": {
        "colab": {
          "base_uri": "https://localhost:8080/"
        },
        "id": "869ea42c",
        "outputId": "f2321342-2463-4a3d-eaff-91b76ea3ffc8"
      },
      "outputs": [
        {
          "output_type": "stream",
          "name": "stdout",
          "text": [
            "0: ──RY(0.83)──H─┤ ╭Probs\n",
            "1: ──RY(0.24)────┤ ├Probs\n",
            "2: ──RY(0.35)────┤ ╰Probs\n"
          ]
        }
      ],
      "source": [
        "print(qml.draw(circuit2, expansion_strategy=\"device\")(Y))"
      ]
    },
    {
      "cell_type": "markdown",
      "id": "eda04137",
      "metadata": {
        "id": "eda04137"
      },
      "source": [
        "\n",
        "3) Amplitude Embedding\n",
        "\n",
        "\n",
        "Modify the following quantum node in order to solve the upcoming error. then enter the modified code line as Fourth graded code\n",
        "\n",
        "\n",
        "HINT   :   First run the code cells to confront the error, then try to solve it"
      ]
    },
    {
      "cell_type": "code",
      "execution_count": null,
      "id": "edb7b8d8",
      "metadata": {
        "id": "edb7b8d8"
      },
      "outputs": [],
      "source": [
        "dev3 = qml.device('default.qubit', wires=2)\n",
        "\n",
        "@qml.qnode(dev3)\n",
        "def circuit(feature_vector):\n",
        "    qml.AmplitudeEmbedding(features=feature_vector,wires=range(2),normalize=True)\n",
        "    return qml.expval(qml.PauliZ(0))\n",
        "\n"
      ]
    },
    {
      "cell_type": "code",
      "execution_count": null,
      "id": "aa5c1ebc",
      "metadata": {
        "id": "aa5c1ebc"
      },
      "outputs": [],
      "source": [
        "Z=[0.24,0.72,0.06,0]"
      ]
    },
    {
      "cell_type": "code",
      "execution_count": null,
      "id": "b61197e9",
      "metadata": {
        "colab": {
          "base_uri": "https://localhost:8080/"
        },
        "id": "b61197e9",
        "outputId": "fa40d59f-d9ee-4171-fb46-ecf96223f1f0"
      },
      "outputs": [
        {
          "output_type": "execute_result",
          "data": {
            "text/plain": [
              "tensor(0.98757764, requires_grad=True)"
            ]
          },
          "metadata": {},
          "execution_count": 14
        }
      ],
      "source": [
        "circuit(Z)"
      ]
    },
    {
      "cell_type": "markdown",
      "id": "07f1ee97",
      "metadata": {
        "id": "07f1ee97"
      },
      "source": [
        "For your fifth graded code, write a code to see if you were successful to encode the mentioned vector into amplitudes"
      ]
    },
    {
      "cell_type": "code",
      "execution_count": null,
      "id": "5e0157d2",
      "metadata": {
        "colab": {
          "base_uri": "https://localhost:8080/"
        },
        "id": "5e0157d2",
        "outputId": "a9419628-d9c3-4b95-8ed2-01cdbde472b3"
      },
      "outputs": [
        {
          "output_type": "execute_result",
          "data": {
            "text/plain": [
              "tensor([0.31524416+0.j, 0.94573249+0.j, 0.07881104+0.j, 0.        +0.j], requires_grad=True)"
            ]
          },
          "metadata": {},
          "execution_count": 15
        }
      ],
      "source": [
        "# enter your code here (Fifth graded code)\n",
        "dev3.state"
      ]
    },
    {
      "cell_type": "code",
      "execution_count": null,
      "id": "250186f3",
      "metadata": {
        "id": "250186f3"
      },
      "outputs": [],
      "source": []
    }
  ],
  "metadata": {
    "kernelspec": {
      "display_name": "Python 3",
      "language": "python",
      "name": "python3"
    },
    "language_info": {
      "codemirror_mode": {
        "name": "ipython",
        "version": 3
      },
      "file_extension": ".py",
      "mimetype": "text/x-python",
      "name": "python",
      "nbconvert_exporter": "python",
      "pygments_lexer": "ipython3",
      "version": "3.8.8"
    },
    "colab": {
      "provenance": []
    }
  },
  "nbformat": 4,
  "nbformat_minor": 5
}